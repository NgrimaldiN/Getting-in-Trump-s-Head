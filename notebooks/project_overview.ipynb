{
 "cells": [
  {
   "cell_type": "markdown",
   "id": "61911855",
   "metadata": {},
   "source": [
    "# Situation Summary"
   ]
  },
  {
   "cell_type": "markdown",
   "id": "69342596",
   "metadata": {},
   "source": [
    "Scraping ~800 speeches of Donald Trump (text data).\n",
    "\n",
    "Planning to do NLP analysis and prediction of future speeches.\n",
    "\n",
    "Want to store all the scraped text somewhere reliable during/after the scraping process."
   ]
  },
  {
   "cell_type": "markdown",
   "id": "55a79f5d",
   "metadata": {},
   "source": [
    "# Storing Choices"
   ]
  },
  {
   "cell_type": "markdown",
   "id": "ea4860b1",
   "metadata": {},
   "source": [
    "What do we store ? \n",
    "\n",
    "- id\n",
    "\n",
    "- date\n",
    "\n",
    "- location\n",
    "\n",
    "- title\n",
    "\n",
    "- source_url\n",
    "\n",
    "- speech_text\n",
    "\n",
    "- tags\n",
    "\n",
    "That’s structured but mostly text-heavy data."
   ]
  },
  {
   "cell_type": "markdown",
   "id": "82c2049f",
   "metadata": {},
   "source": [
    "### SQLite\n",
    "\n",
    "Local relational DB\n",
    "\n",
    "Built into Python (sqlite3), reliable, easy to query with SQL\n",
    "\n",
    "Not good for large-scale concurrency or cloud access"
   ]
  },
  {
   "cell_type": "markdown",
   "id": "9d9952dd",
   "metadata": {},
   "source": [
    "#### During scraping → Store in SQLite\n",
    "\n",
    "Use the sqlite3 library or SQLAlchemy.\n",
    "\n",
    "Each scraped speech = one row in a speeches table.\n",
    "\n",
    "Easy to resume scraping or query specific speeches later.\n",
    "\n",
    "File-based (data/speeches.db) — portable and simple."
   ]
  },
  {
   "cell_type": "markdown",
   "id": "29204a5e",
   "metadata": {},
   "source": [
    "#### After scraping → Export to Parquet or CSV\n",
    "\n",
    "Once scraping is complete, we will dump the table to a Parquet file.\n",
    "\n",
    "Parquet integrates perfectly with Pandas, DuckDB, or LangChain/OpenAI embeddings for later NLP analysis."
   ]
  }
 ],
 "metadata": {
  "language_info": {
   "name": "python"
  }
 },
 "nbformat": 4,
 "nbformat_minor": 5
}
